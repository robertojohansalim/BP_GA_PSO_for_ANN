{
 "cells": [
  {
   "cell_type": "code",
   "execution_count": 1,
   "metadata": {},
   "outputs": [],
   "source": [
    "# https://www.knowledgehut.com/blog/data-science/types-of-classification-in-ml\n",
    "from sklearn.datasets import make_blobs \n",
    "from collections import Counter \n",
    "from numpy import where \n",
    "from sklearn.preprocessing import OneHotEncoder\n",
    "from sklearn.model_selection import train_test_split\n",
    "import matplotlib.pyplot as plt\n"
   ]
  },
  {
   "cell_type": "code",
   "execution_count": 2,
   "metadata": {},
   "outputs": [],
   "source": [
    "from sklearn import datasets\n",
    "from sklearn.model_selection import train_test_split\n",
    "from sklearn.preprocessing import OneHotEncoder\n",
    "import pickle\n",
    "\n",
    "def load_datasets(datasets_name=\"wine\"):\n",
    "    if datasets_name == \"iris\":\n",
    "        dataset = datasets.load_iris()\n",
    "    elif datasets_name == \"wine\":\n",
    "        dataset = datasets.load_wine()\n",
    "\n",
    "    X = dataset.data\n",
    "    y = dataset.target\n",
    "\n",
    "    # Split the data for training and testing\n",
    "    x_train, x_test, y_train, y_test = train_test_split(X, y, test_size=0.20, random_state=42)\n",
    "    return x_train, x_test, y_train, y_test\n",
    "\n",
    "def saveReport(accuracy_history, loss_history=[]):\n",
    "    data = {\n",
    "        \"accuracy_history\": accuracy_history,\n",
    "        \"loss_history\": loss_history,\n",
    "    }\n",
    "    pickle.dump(data, open(\"./PSO_report.pkl\", \"wb\"))\n",
    "\n",
    "x_train, x_test, y_train, y_test = load_datasets()\n"
   ]
  },
  {
   "cell_type": "code",
   "execution_count": 3,
   "metadata": {},
   "outputs": [],
   "source": [
    "# PSO Implementation\n",
    " # Neural network architecture\n",
    "# n_inputs = x_train[0].shape[0]\n",
    "# n_hidden = 20\n",
    "# n_classes = 4\n",
    "n_inputs = x_train[0].shape[0]\n",
    "n_hidden = 20\n",
    "n_classes = 3\n",
    "\n",
    "# Forward propagation\n",
    "def forward_prop(params):\n",
    "    \"\"\"Forward propagation as objective function\n",
    "\n",
    "    This computes for the forward propagation of the neural network, as\n",
    "    well as the loss. It receives a set of parameters that must be \n",
    "    rolled-back into the corresponding weights and biases.\n",
    "\n",
    "    Inputs\n",
    "    ------\n",
    "    params: np.ndarray\n",
    "        The dimensions should include an unrolled version of the \n",
    "        weights and biases.\n",
    "\n",
    "    Returns\n",
    "    -------\n",
    "    float\n",
    "        The computed negative log-likelihood loss given the parameters\n",
    "    \"\"\"\n",
    "   \n",
    "    # Roll-back the weights and biases\n",
    "    W1_len = n_inputs * n_hidden\n",
    "    b1_len = W1_len + n_hidden\n",
    "    W2_len = b1_len + (n_hidden * n_classes)\n",
    "\n",
    "\n",
    "    # print(b1_len,W2_len)\n",
    "    # print(params[b1_len:W2_len])\n",
    "    # W1 = params[0:80].reshape((n_inputs, n_hidden)) \n",
    "    # b1 = params[80:100].reshape((n_hidden,))\n",
    "    # W2 = params[100:160].reshape((n_hidden, n_classes))\n",
    "    # b2 = params[160:163].reshape((n_classes,))\n",
    "    W1 = params[0:W1_len].reshape((n_inputs, n_hidden)) \n",
    "    b1 = params[W1_len:b1_len].reshape((n_hidden,))\n",
    "    W2 = params[b1_len:W2_len].reshape((n_hidden, n_classes))\n",
    "    b2 = params[W2_len:dimensions].reshape((n_classes,))\n",
    "\n",
    "    # Perform forward propagation\n",
    "    z1 = X.dot(W1) + b1  # Pre-activation in Layer 1\n",
    "    a1 = np.tanh(z1)     # Activation in Layer 1\n",
    "    z2 = a1.dot(W2) + b2  # Pre-activation in Layer 2\n",
    "    logits = z2          # Logits for Layer 2\n",
    "\n",
    "    # Compute for the softmax of the logits\n",
    "    exp_scores = np.exp(logits)\n",
    "    probs = exp_scores / np.sum(exp_scores, axis=1, keepdims=True)\n",
    "\n",
    "    # Compute for the negative log likelihood\n",
    "    # N = 150  # Number of samples\n",
    "    N = probs.shape[0]  # Number of samples\n",
    "    corect_logprobs = -np.log(probs[range(N), y])\n",
    "    loss = np.sum(corect_logprobs) / N\n",
    "\n",
    "    return loss\n",
    "\n",
    "\n",
    "def f(x):\n",
    "    \"\"\"Higher-level method to do forward_prop in the \n",
    "    whole swarm.\n",
    "\n",
    "    Inputs\n",
    "    ------\n",
    "    x: numpy.ndarray of shape (n_particles, dimensions)\n",
    "        The swarm that will perform the search\n",
    "\n",
    "    Returns\n",
    "    -------\n",
    "    numpy.ndarray of shape (n_particles, )\n",
    "        The computed loss for each particle\n",
    "    \"\"\"\n",
    "    n_particles = x.shape[0]\n",
    "    j = [forward_prop(x[i]) for i in range(n_particles)]\n",
    "    return np.array(j)\n",
    "\n",
    "\n",
    "def predict(X, pos):\n",
    "    \"\"\"\n",
    "    Use the trained weights to perform class predictions.\n",
    "\n",
    "    Inputs\n",
    "    ------\n",
    "    X: numpy.ndarray\n",
    "        Input Iris dataset\n",
    "    pos: numpy.ndarray\n",
    "        Position matrix found by the swarm. Will be rolled\n",
    "        into weights and biases.\n",
    "    \"\"\"\n",
    "\n",
    "    # Roll-back the weights and biases\n",
    "    W1_len = n_inputs * n_hidden\n",
    "    b1_len = W1_len + n_hidden\n",
    "    W2_len = b1_len + (n_hidden * n_classes)\n",
    "\n",
    "    # print(W1_len,b1_len)\n",
    "    # print(pos[W1_len:b1_len])\n",
    "    # W1 = pos[0:80].reshape((n_inputs, n_hidden)) \n",
    "    # b1 = pos[80:100].reshape((n_hidden,))\n",
    "    # W2 = pos[100:160].reshape((n_hidden, n_classes))\n",
    "    # b2 = pos[160:163].reshape((n_classes,))\n",
    "    W1 = pos[0:W1_len].reshape((n_inputs, n_hidden)) \n",
    "    b1 = pos[W1_len:b1_len].reshape((n_hidden,))\n",
    "    W2 = pos[b1_len:W2_len].reshape((n_hidden, n_classes))\n",
    "    b2 = pos[W2_len:dimensions].reshape((n_classes,))\n",
    "    #print (W1)\n",
    "    #print (b1)\n",
    "    # Perform forward propagation\n",
    "    z1 = X.dot(W1) + b1  # Pre-activation in Layer 1\n",
    "    a1 = np.tanh(z1)     # Activation in Layer 1\n",
    "    z2 = a1.dot(W2) + b2  # Pre-activation in Layer 2\n",
    "    logits = z2          # Logits for Layer 2\n",
    "\n",
    "    y_pred = np.argmax(logits, axis=1)\n",
    "    return y_pred"
   ]
  },
  {
   "cell_type": "code",
   "execution_count": 4,
   "metadata": {},
   "outputs": [
    {
     "name": "stderr",
     "output_type": "stream",
     "text": [
      "2022-02-06 22:09:23,830 - pyswarms.single.global_best - INFO - Optimize for 1000 iters with {'c1': 0.5, 'c2': 0.3, 'w': 0.9}\n"
     ]
    },
    {
     "name": "stdout",
     "output_type": "stream",
     "text": [
      "(142, 13)\n",
      "(142,)\n",
      "Dimension 343\n"
     ]
    },
    {
     "name": "stderr",
     "output_type": "stream",
     "text": [
      "pyswarms.single.global_best: 100%|██████████|1000/1000, best_cost=0.328\n",
      "2022-02-06 22:09:42,777 - pyswarms.single.global_best - INFO - Optimization finished | best cost: 0.32779787711393565, best pos: [ 1.33271374e+00  5.42608813e-01  3.06687004e-01  1.11923657e+00\n",
      "  1.04493227e+00  9.57141122e-01  1.56088359e+00  1.25666386e-01\n",
      " -5.91146181e-02  5.46624115e-01  6.86469681e-01  1.04110560e+00\n",
      "  6.00290149e-01  7.42665179e-01  8.20268151e-01  7.20509981e-01\n",
      "  8.24947468e-01  6.74122773e-01  1.25879417e-01  2.08755297e+00\n",
      "  9.52015743e-01 -2.73671623e+00  2.36915736e+00  1.35185190e+00\n",
      "  7.11591873e-01  1.16971184e+00  9.93239768e-01  1.29902767e-02\n",
      "  9.76626273e-01  9.15369293e-01  2.23243048e+00  7.08926879e-01\n",
      "  4.31807316e-01  3.45085273e-01  2.91748807e-01  3.78031733e-01\n",
      "  1.64557328e-01  1.27479716e+00  7.66315658e-01  1.20511561e+00\n",
      "  1.57686717e-01  2.16356730e+00  1.30791549e+00  4.78947813e-01\n",
      "  6.84780036e-01 -5.87230065e-02  4.05826657e-01  8.65070366e-01\n",
      "  8.17637196e-01  9.09217187e-01  6.81637362e-01  3.68295560e-01\n",
      "  1.30677827e+00  1.00660929e+00  8.33182311e-01  3.51956978e-01\n",
      " -5.44343834e-01  1.27575644e+00  9.91490360e-01  7.61577695e-01\n",
      "  1.48192534e+00  3.22669140e-01  3.08223348e-01  3.86947484e-01\n",
      "  6.27857650e-02  1.12412187e+00  1.01436804e+00 -5.40955119e-01\n",
      "  1.87818214e-01  2.90703359e-01 -1.74415143e-01  1.31434928e+00\n",
      "  6.58171864e-01  1.34930144e+00  6.17732405e-01  7.36035161e-01\n",
      "  9.31954950e-01  8.69680561e-01  1.53257935e+00  7.59250362e-01\n",
      "  1.04058476e+00  6.43442418e-01  7.70147295e-01  6.65826663e-01\n",
      " -1.14284480e-01  8.29992328e-01  6.48503730e-01  1.45676725e+00\n",
      "  8.34748621e-01  1.77323035e-01  1.14393114e+00  8.32368320e-01\n",
      "  3.61121836e-01  1.18795888e+00  2.04675581e-01  8.50576944e-01\n",
      "  4.10679472e-01  3.51037000e-01 -2.57439524e-01 -4.55799864e-01\n",
      "  2.29533717e-01  7.34406447e-01  4.72730735e-01  3.18301499e-01\n",
      "  7.47272653e-01 -5.57338382e-01  2.46516492e-01  1.21628201e+00\n",
      "  3.62352324e-01  1.73924220e-01  1.55279988e+00  8.82343866e-01\n",
      "  1.02387165e+00  1.69317363e-01  1.83842534e+00  9.43098166e-01\n",
      "  5.15383330e-01  1.82423127e+00  8.33129565e-01  3.36541081e-01\n",
      "  9.80437769e-01  6.06606676e-01 -1.66037362e+00  6.57212273e-01\n",
      "  2.58540839e-01  6.12909725e-01  1.60440342e-01  1.13016493e+00\n",
      "  5.36971862e-01  2.94175694e-01  1.19464354e+00  1.24133062e+00\n",
      "  1.38354395e+00  4.27400040e-01  1.12530199e+00  1.39168859e+00\n",
      " -1.04092059e+00  5.16615322e-01  6.58210539e-01  9.25568170e-01\n",
      "  8.92036936e-01 -1.99403540e-01  1.32203744e+00  3.13250058e-01\n",
      "  3.13502736e-01  1.05722138e+00  6.48428820e-01  8.91136223e-02\n",
      "  1.03124210e+00  6.35908474e-01  1.54839577e-01  1.03869427e-01\n",
      "  1.73010926e+00  9.48286518e-01  7.16255542e-01  4.57115907e-01\n",
      "  5.46909752e-01  3.45614900e-01  7.42067014e-01  9.70997325e-01\n",
      "  1.33635590e+00  1.20538424e+00  1.67894205e+00  1.28969847e+00\n",
      "  4.32128911e-01  1.41865232e-01 -1.21481178e+01 -1.25211876e-01\n",
      "  1.02137271e+00  7.90341966e-01  5.96728149e-01 -2.07891346e-01\n",
      "  1.29942446e+00 -2.20621583e-01  6.82262681e-01  6.83094803e-01\n",
      "  1.49221287e+00  1.11162534e+00  1.28800533e+00  1.75526249e-01\n",
      "  4.60186547e-01  1.30739064e+00  1.41905029e+00  3.21723065e-01\n",
      "  1.21876603e+00  7.02350648e-01  3.25457894e+01  1.00987523e-02\n",
      "  4.62479074e-01  1.10345266e+00 -7.09687471e-01 -2.08505748e-01\n",
      "  6.92658689e-01 -6.68146024e-02  7.27725962e-01  1.14342975e+00\n",
      "  7.35270316e-01  7.63745888e-01  6.88637627e-01  8.92869345e-01\n",
      "  1.39270557e+00  7.99753912e-01  3.86066469e-01  2.47563714e-02\n",
      "  1.25693189e+00 -2.22735004e-01  1.32419665e+00 -9.39162885e-01\n",
      " -2.28412351e-01  9.43706148e-01  8.26174169e-01  1.36156366e+00\n",
      "  7.04931390e-01  9.32376598e-01  6.90819652e-01  1.30482659e+00\n",
      "  2.26085427e-01  3.69707177e-01  2.59451769e-01  1.31359042e+00\n",
      "  7.67567840e-01  1.10707311e+00  7.36528427e-01  3.20193755e-01\n",
      " -1.72684402e-01  6.40345529e-01  9.60860026e-01 -2.12056711e-01\n",
      "  4.70194486e-01  1.58767885e+00  1.35684437e+00  4.84317269e-01\n",
      "  6.10037279e-02  5.86493865e-01 -1.32400150e-01  3.83569256e-01\n",
      "  6.26786624e-01  8.73918835e-01  1.14597825e-01  3.83027946e-01\n",
      "  8.07670315e-01  1.03557937e+00  8.35303961e-01  1.35472620e+00\n",
      "  8.22163425e-01  3.75791746e-01 -3.74070189e-01  5.30503768e-01\n",
      "  1.37968582e-01  1.38211601e-01  9.67370192e-01 -2.63059057e-01\n",
      "  1.78886346e+00  8.48634958e-01  6.99973486e-01  4.90979984e-01\n",
      " -2.04082453e-01 -9.56197654e-02  9.82887666e-01  1.51188039e+00\n",
      "  6.07966177e-01  1.52893387e+00 -6.59739349e-01 -3.99975365e-01\n",
      "  8.66089600e-01  1.48632986e+00  8.38310033e-01  2.30046703e+00\n",
      "  1.94749950e+00 -2.00465531e-01  6.04236186e-01  6.21944046e-01\n",
      "  6.86661890e-01  1.01341095e+00  7.27207212e-02  8.60592597e-01\n",
      "  1.64578642e+00  2.06125551e-01  6.08127399e-01  5.10051757e-01\n",
      "  6.44405062e-01  4.14621873e+00  1.41843073e+00  1.01673772e+00\n",
      "  9.36127631e-01  7.29927152e-01 -1.54751850e-01  7.82527357e-01\n",
      "  1.16700236e+00  7.90773672e-01  4.41881939e-01  9.57075904e-01\n",
      "  5.43409344e-03  1.88243759e-01  4.58482285e-01  1.05932315e+00\n",
      "  9.35613943e-01  1.28357743e+00  7.46616006e-01  3.50006886e+00\n",
      "  6.58577911e+00  1.47211081e+00  1.18936836e+00  8.79418733e-01\n",
      "  9.51877164e-01  4.63751638e-01 -1.27482217e-01  4.55586313e-01\n",
      "  2.76866608e-01  1.45245896e+00  7.25451529e-01  3.03115623e-01\n",
      "  1.03852381e-02  1.23283012e-01  3.02228334e+00  4.83767466e-01\n",
      "  3.49873919e-01  1.40908645e+00  6.73944429e-01  8.08813633e-01\n",
      "  7.62336906e-01 -1.46876852e-02  5.73862863e-01  1.07172255e+00\n",
      "  9.01221134e-02  1.20696164e+00  5.31645459e-01 -2.10221239e-01\n",
      "  9.93913234e-01  8.68318174e-01  9.51593625e-01 -4.88719915e-01\n",
      "  1.60324489e+00  4.29885342e+00  7.80480374e-01  1.05299806e+00\n",
      "  7.15261497e-01  5.00621437e-01  9.61530462e-01  1.05780819e+00\n",
      "  4.07403083e-01  8.05615610e-01  3.70703718e-01]\n"
     ]
    }
   ],
   "source": [
    "import pyswarms as ps\n",
    "from sklearn.datasets import load_iris\n",
    "import matplotlib.pyplot as plt\n",
    "import numpy as np\n",
    "import sys\n",
    "\n",
    "X = x_train\n",
    "y = y_train\n",
    "\n",
    "print(X.shape)\n",
    "print(y.shape)\n",
    "\n",
    "# Initialize swarm\n",
    "options = {'c1': 0.5, 'c2': 0.3, 'w': 0.9}\n",
    "\n",
    "# Call instance of PSO\n",
    "# dimensions = (4 * 20) + (20 * 3) + 20 + 3\n",
    "dimensions = (n_inputs * n_hidden) + (n_hidden * n_classes) + n_hidden + n_classes\n",
    "print(\"Dimension\", dimensions)\n",
    "optimizer = ps.single.GlobalBestPSO(\n",
    "    n_particles=100, dimensions=dimensions, options=options)\n",
    "\n",
    "# Perform optimization\n",
    "cost, pos = optimizer.optimize(f, iters=1000, verbose=3)"
   ]
  },
  {
   "cell_type": "code",
   "execution_count": 5,
   "metadata": {},
   "outputs": [
    {
     "name": "stdout",
     "output_type": "stream",
     "text": [
      "Accuracy on Unseen Data: 0.8333333333333334\n"
     ]
    },
    {
     "data": {
      "image/png": "[encoded data removed]",
      "text/plain": [
       "<Figure size 432x288 with 1 Axes>"
      ]
     },
     "metadata": {
      "needs_background": "light"
     },
     "output_type": "display_data"
    },
    {
     "data": {
      "image/png": "[encoded data removed]",
      "text/plain": [
       "<Figure size 432x288 with 1 Axes>"
      ]
     },
     "metadata": {
      "needs_background": "light"
     },
     "output_type": "display_data"
    }
   ],
   "source": [
    "Test_acc = (predict(x_test, pos) == y_test).mean()\n",
    "\n",
    "print(\"Accuracy on Unseen Data:\", Test_acc)\n",
    "\n",
    "plt.plot(optimizer.cost_history)\n",
    "plt.title(\"COST\")\n",
    "plt.show()\n",
    "\n",
    "pos_history = optimizer.pos_history\n",
    "pos_history = optimizer.pos_history\n",
    "acc_history = [max([(predict(x_test, pos) == y_test).mean() for pos in pos_pop]) for pos_pop in pos_history]\n",
    "plt.plot(acc_history)\n",
    "plt.title(\"Accuracy\")\n",
    "plt.show()\n",
    "\n",
    "saveReport(acc_history, optimizer.cost_history)"
   ]
  },
  {
   "cell_type": "code",
   "execution_count": 6,
   "metadata": {},
   "outputs": [
    {
     "data": {
      "text/plain": [
       "[<matplotlib.lines.Line2D at 0x1f1e3dde9c8>]"
      ]
     },
     "execution_count": 6,
     "metadata": {},
     "output_type": "execute_result"
    },
    {
     "data": {
      "image/png": "[encoded data removed]",
      "text/plain": [
       "<Figure size 432x288 with 1 Axes>"
      ]
     },
     "metadata": {
      "needs_background": "light"
     },
     "output_type": "display_data"
    }
   ],
   "source": [
    "pos_history = optimizer.pos_history\n",
    "pos_history = optimizer.pos_history\n",
    "acc_history = [max([(predict(x_test, pos) == y_test).mean() for pos in pos_pop]) for pos_pop in pos_history]\n",
    "plt.plot(acc_history)"
   ]
  }
 ],
 "metadata": {
  "interpreter": {
   "hash": "0b41b614c6c44926803297f7350f5772704ee7eec981e74618681f951a073a73"
  },
  "kernelspec": {
   "display_name": "Python 3.7.9 64-bit",
   "language": "python",
   "name": "python3"
  },
  "language_info": {
   "codemirror_mode": {
    "name": "ipython",
    "version": 3
   },
   "file_extension": ".py",
   "mimetype": "text/x-python",
   "name": "python",
   "nbconvert_exporter": "python",
   "pygments_lexer": "ipython3",
   "version": "3.7.9"
  },
  "orig_nbformat": 4
 },
 "nbformat": 4,
 "nbformat_minor": 2
}
