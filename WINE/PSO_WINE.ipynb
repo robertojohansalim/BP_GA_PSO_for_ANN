{
 "cells": [
  {
   "cell_type": "code",
   "execution_count": 7,
   "metadata": {},
   "outputs": [],
   "source": [
    "# https://www.knowledgehut.com/blog/data-science/types-of-classification-in-ml\n",
    "from sklearn.datasets import make_blobs \n",
    "from collections import Counter \n",
    "from numpy import where \n",
    "from sklearn.preprocessing import OneHotEncoder\n",
    "from sklearn.model_selection import train_test_split\n",
    "import matplotlib.pyplot as plt\n"
   ]
  },
  {
   "cell_type": "code",
   "execution_count": 8,
   "metadata": {},
   "outputs": [],
   "source": [
    "from sklearn import datasets\n",
    "from sklearn.model_selection import train_test_split\n",
    "from sklearn.preprocessing import OneHotEncoder\n",
    "import pickle\n",
    "\n",
    "def load_datasets(datasets_name=\"wine\"):\n",
    "    if datasets_name == \"iris\":\n",
    "        dataset = datasets.load_iris()\n",
    "    elif datasets_name == \"wine\":\n",
    "        dataset = datasets.load_wine()\n",
    "\n",
    "    X = dataset.data\n",
    "    y = dataset.target\n",
    "\n",
    "    # Split the data for training and testing\n",
    "    x_train, x_test, y_train, y_test = train_test_split(X, y, test_size=0.20, random_state=42)\n",
    "    return x_train, x_test, y_train, y_test\n",
    "\n",
    "def saveReport(accuracy_history, loss_history=[]):\n",
    "    data = {\n",
    "        \"accuracy_history\": accuracy_history,\n",
    "        \"loss_history\": loss_history,\n",
    "    }\n",
    "    pickle.dump(data, open(\"./PSO_report.pkl\", \"wb\"))\n",
    "\n",
    "x_train, x_test, y_train, y_test = load_datasets()\n"
   ]
  },
  {
   "cell_type": "code",
   "execution_count": 9,
   "metadata": {},
   "outputs": [],
   "source": [
    "# PSO Implementation\n",
    " # Neural network architecture\n",
    "# n_inputs = x_train[0].shape[0]\n",
    "# n_hidden = 20\n",
    "# n_classes = 4\n",
    "n_inputs = x_train[0].shape[0]\n",
    "n_hidden = 20\n",
    "n_classes = 3\n",
    "\n",
    "# Forward propagation\n",
    "def forward_prop(params):\n",
    "    \"\"\"Forward propagation as objective function\n",
    "\n",
    "    This computes for the forward propagation of the neural network, as\n",
    "    well as the loss. It receives a set of parameters that must be \n",
    "    rolled-back into the corresponding weights and biases.\n",
    "\n",
    "    Inputs\n",
    "    ------\n",
    "    params: np.ndarray\n",
    "        The dimensions should include an unrolled version of the \n",
    "        weights and biases.\n",
    "\n",
    "    Returns\n",
    "    -------\n",
    "    float\n",
    "        The computed negative log-likelihood loss given the parameters\n",
    "    \"\"\"\n",
    "   \n",
    "    # Roll-back the weights and biases\n",
    "    W1_len = n_inputs * n_hidden\n",
    "    b1_len = W1_len + n_hidden\n",
    "    W2_len = b1_len + (n_hidden * n_classes)\n",
    "\n",
    "\n",
    "    # print(b1_len,W2_len)\n",
    "    # print(params[b1_len:W2_len])\n",
    "    # W1 = params[0:80].reshape((n_inputs, n_hidden)) \n",
    "    # b1 = params[80:100].reshape((n_hidden,))\n",
    "    # W2 = params[100:160].reshape((n_hidden, n_classes))\n",
    "    # b2 = params[160:163].reshape((n_classes,))\n",
    "    W1 = params[0:W1_len].reshape((n_inputs, n_hidden)) \n",
    "    b1 = params[W1_len:b1_len].reshape((n_hidden,))\n",
    "    W2 = params[b1_len:W2_len].reshape((n_hidden, n_classes))\n",
    "    b2 = params[W2_len:dimensions].reshape((n_classes,))\n",
    "\n",
    "    # Perform forward propagation\n",
    "    z1 = X.dot(W1) + b1  # Pre-activation in Layer 1\n",
    "    a1 = np.tanh(z1)     # Activation in Layer 1\n",
    "    z2 = a1.dot(W2) + b2  # Pre-activation in Layer 2\n",
    "    logits = z2          # Logits for Layer 2\n",
    "\n",
    "    # Compute for the softmax of the logits\n",
    "    exp_scores = np.exp(logits)\n",
    "    probs = exp_scores / np.sum(exp_scores, axis=1, keepdims=True)\n",
    "\n",
    "    # Compute for the negative log likelihood\n",
    "    # N = 150  # Number of samples\n",
    "    N = probs.shape[0]  # Number of samples\n",
    "    corect_logprobs = -np.log(probs[range(N), y])\n",
    "    loss = np.sum(corect_logprobs) / N\n",
    "\n",
    "    return loss\n",
    "\n",
    "\n",
    "def f(x):\n",
    "    \"\"\"Higher-level method to do forward_prop in the \n",
    "    whole swarm.\n",
    "\n",
    "    Inputs\n",
    "    ------\n",
    "    x: numpy.ndarray of shape (n_particles, dimensions)\n",
    "        The swarm that will perform the search\n",
    "\n",
    "    Returns\n",
    "    -------\n",
    "    numpy.ndarray of shape (n_particles, )\n",
    "        The computed loss for each particle\n",
    "    \"\"\"\n",
    "    n_particles = x.shape[0]\n",
    "    j = [forward_prop(x[i]) for i in range(n_particles)]\n",
    "    return np.array(j)\n",
    "\n",
    "\n",
    "def predict(X, pos):\n",
    "    \"\"\"\n",
    "    Use the trained weights to perform class predictions.\n",
    "\n",
    "    Inputs\n",
    "    ------\n",
    "    X: numpy.ndarray\n",
    "        Input Iris dataset\n",
    "    pos: numpy.ndarray\n",
    "        Position matrix found by the swarm. Will be rolled\n",
    "        into weights and biases.\n",
    "    \"\"\"\n",
    "\n",
    "    # Roll-back the weights and biases\n",
    "    W1_len = n_inputs * n_hidden\n",
    "    b1_len = W1_len + n_hidden\n",
    "    W2_len = b1_len + (n_hidden * n_classes)\n",
    "\n",
    "    # print(W1_len,b1_len)\n",
    "    # print(pos[W1_len:b1_len])\n",
    "    # W1 = pos[0:80].reshape((n_inputs, n_hidden)) \n",
    "    # b1 = pos[80:100].reshape((n_hidden,))\n",
    "    # W2 = pos[100:160].reshape((n_hidden, n_classes))\n",
    "    # b2 = pos[160:163].reshape((n_classes,))\n",
    "    W1 = pos[0:W1_len].reshape((n_inputs, n_hidden)) \n",
    "    b1 = pos[W1_len:b1_len].reshape((n_hidden,))\n",
    "    W2 = pos[b1_len:W2_len].reshape((n_hidden, n_classes))\n",
    "    b2 = pos[W2_len:dimensions].reshape((n_classes,))\n",
    "    #print (W1)\n",
    "    #print (b1)\n",
    "    # Perform forward propagation\n",
    "    z1 = X.dot(W1) + b1  # Pre-activation in Layer 1\n",
    "    a1 = np.tanh(z1)     # Activation in Layer 1\n",
    "    z2 = a1.dot(W2) + b2  # Pre-activation in Layer 2\n",
    "    logits = z2          # Logits for Layer 2\n",
    "\n",
    "    y_pred = np.argmax(logits, axis=1)\n",
    "    return y_pred"
   ]
  },
  {
   "cell_type": "code",
   "execution_count": 10,
   "metadata": {},
   "outputs": [
    {
     "name": "stdout",
     "output_type": "stream",
     "text": [
      "(142, 13)\n",
      "(142,)\n",
      "Dimension 343\n"
     ]
    },
    {
     "name": "stderr",
     "output_type": "stream",
     "text": [
      "2022-02-07 00:23:26,313 - pyswarms.single.global_best - INFO - Optimize for 1000 iters with {'c1': 0.5, 'c2': 0.3, 'w': 0.9}\n",
      "pyswarms.single.global_best: 100%|██████████|1000/1000, best_cost=0.359\n",
      "2022-02-07 00:23:45,764 - pyswarms.single.global_best - INFO - Optimization finished | best cost: 0.3586093172914527, best pos: [ 3.25978630e-01  1.26786524e-01  1.11671473e+00 -2.59628545e-01\n",
      "  5.46960012e-01  1.49093691e+00  7.13194923e-01  5.31940595e-01\n",
      "  1.50220868e-01  3.17824778e-01 -9.69185720e-03  4.27755654e-01\n",
      "  1.63954201e+00  1.70107043e+00  1.19104191e+00  1.05871648e+00\n",
      "  5.92058346e-01  8.70542343e-01  3.34608835e-01  1.09303885e+00\n",
      "  1.29567507e+00 -2.07274773e+00  3.43279580e-01  9.28311566e-01\n",
      "  2.57336064e+00  2.70240760e-01 -9.27189620e-02  7.95788296e-01\n",
      " -3.54233502e-01  1.20151109e+00  7.09333554e-01  8.32241463e-01\n",
      "  1.24539277e+00  1.45943586e+00 -4.93967898e-02  6.81739405e-01\n",
      "  5.07080820e-01  1.17839902e-01  6.72241920e-01  1.00205547e+00\n",
      "  7.85205183e-01  5.63327067e-01  7.78292669e-01  1.33291655e+00\n",
      "  7.31719773e-01 -5.24368165e-01  2.12215426e-01  5.50334623e-01\n",
      "  2.83730722e-01  5.19865075e-01  1.17958468e+00 -2.80226086e+00\n",
      "  3.10658325e-01  7.74382207e-01  1.00654216e+00  7.25237801e-01\n",
      "  1.24086362e+00  3.54469623e-01  5.04507860e-01  9.05621300e-01\n",
      "  2.84659804e-01  6.29095174e-02  3.40325818e+00  5.33636652e-01\n",
      "  8.13919169e-01  3.45239201e-01  9.82610652e-02  8.78558368e-01\n",
      "  6.47199523e-01  1.22005117e+00  8.12199173e-01  5.87436950e-01\n",
      "  9.22054395e-01  4.81664551e-01  1.91073378e+00  8.63401788e-01\n",
      "  9.33926804e-01  1.03925773e+00  1.67907119e+00  1.08685378e+00\n",
      "  1.90465751e-01  1.14475576e+00  7.61645066e-01  1.50347056e+00\n",
      "  2.64037658e-01  3.32179668e-01 -1.20196126e+00  1.10218387e+00\n",
      "  1.38571213e+00  2.77884450e-01  1.85293307e-01  1.07449043e+00\n",
      "  1.15612269e+00  1.17106775e+00  7.80763166e-01  1.07812242e+00\n",
      "  5.69448176e-01  5.92355982e-01  1.09449669e+00 -4.82663068e-01\n",
      "  8.92118283e-01  1.72380331e-01  7.92567816e-01  4.60519008e-01\n",
      "  7.91934879e-01  1.43435783e+00  1.00741608e+00  1.32001042e+00\n",
      "  3.66561135e-01 -2.91992759e+00 -6.08048406e-02  5.77668699e-01\n",
      "  1.37517600e+00  1.08423401e+00  3.10734033e+00  4.91259647e-01\n",
      "  2.77474630e-01  7.69349680e-01  1.53723118e+00  1.54450203e+00\n",
      "  7.11240603e-01  9.97558183e-01  8.08312204e-01  8.30909550e-01\n",
      "  9.95917912e-01 -1.35622654e-01  1.81683773e-01  4.85816719e-01\n",
      "  3.07869234e-01  1.16665007e+00  1.13789775e+00  8.23111042e-01\n",
      "  2.08487630e+00 -8.59427984e-01  5.86914958e-02  6.80781475e-01\n",
      "  1.10393759e+00  1.51390006e+00  3.87174939e-01  8.35520864e-01\n",
      "  1.03338726e+00  1.09356622e+00  1.37511652e+00  5.79241375e-01\n",
      "  1.17395242e+00  8.94330416e-01  5.85912856e+00  4.56515157e-01\n",
      "  5.78371956e-01  5.71124938e-01  3.75637551e-01  2.74206998e-01\n",
      "  3.82574834e-01  4.69126951e-01  2.67015560e-01  7.45668080e-01\n",
      "  2.29592192e+00  7.00875597e-01  9.20220167e-01 -1.97324328e-01\n",
      "  6.94479086e-01  5.66747891e-01  7.95839886e-01  7.65315946e-01\n",
      "  1.12598679e+00  1.08449339e+00  8.56510986e-01  1.09225334e+00\n",
      "  1.05999696e+00  4.14861969e-01  9.05040561e-01  1.74407475e-01\n",
      " -8.99985659e-02  1.18912777e+00  3.37657062e-01  1.08021077e+00\n",
      " -1.35223548e-01  6.92319057e-01  5.31673571e-01  5.43772033e-01\n",
      "  8.63836977e-01  1.17645817e+00  3.47881381e-01  9.06364308e-01\n",
      "  1.27407783e+00  1.34035509e+00  1.70841874e-01  6.44552810e-01\n",
      "  5.80697479e-01  1.08535714e+00  3.26749654e+00  8.04541778e-02\n",
      " -1.80231598e-03 -1.91292766e+01  8.49700406e-01  6.75844280e-01\n",
      "  2.42463258e-01 -7.91327564e-02  8.06678660e-01  2.13463510e+00\n",
      "  1.62356270e+00  7.05507465e-01  1.02763180e+00  3.40978171e-01\n",
      "  1.19031365e-01  8.42466785e-01  9.45150424e-01  2.37633064e+00\n",
      "  7.07852968e-01  7.58586824e-01  7.74558871e-01  1.82294967e+00\n",
      "  5.05825163e-01  1.68235361e+00  8.82834504e-01  1.21586220e+00\n",
      " -2.00819626e-01  8.06986727e-01  5.34230980e-04  7.68216105e-01\n",
      "  1.38811329e-01  9.15768783e-01  2.90308868e-01  9.39640669e-01\n",
      "  1.05413554e+00  4.46227083e-01  1.07476798e+00  2.22209965e-01\n",
      "  3.83270608e-01  1.56487258e+00  9.82273216e-01  1.02638885e+00\n",
      "  1.31687262e+00  2.15766309e+01  9.82041150e-01  5.02900655e-01\n",
      "  1.38139910e+00  4.27384901e-01  6.61542142e-01  1.32590487e+00\n",
      "  7.81532949e-01 -1.50159124e-01  1.36482126e+00  7.76058675e-01\n",
      " -8.59550057e-02  1.47657559e+00  1.02653740e+00  7.12792802e-01\n",
      "  1.38945991e+00  1.06739755e+00  1.75790559e+00  1.24579123e+00\n",
      "  6.52500839e+00 -2.33773012e-01  7.11947992e-01  8.85961563e-01\n",
      "  7.19392946e-01  2.54810592e-01  9.63305782e-01  1.27010048e+00\n",
      "  4.35394761e-01  1.14329975e+00  8.36731098e-01  1.02144766e+00\n",
      "  5.91369670e-01  5.89586761e-01 -1.30510639e-02  1.20862133e-01\n",
      "  5.12968298e-01  5.08599154e-01  1.14906924e+00  1.21994737e+00\n",
      "  6.92645158e-01  5.19125816e-01  6.60946646e-01  5.83574159e-01\n",
      "  8.36936971e-01  1.41298043e+00  8.54846896e-01  1.05535201e+00\n",
      "  2.12313410e+00  8.60383805e-01  9.85616227e-01  1.31403943e+00\n",
      "  9.76184249e-01  4.94345396e-01  4.94670247e-01  2.79327119e-01\n",
      "  1.23247123e+00  2.31600738e-01  6.30789678e-01  1.55279692e-01\n",
      " -1.06322809e+00  7.60118210e-01  1.98138003e+01 -1.59036915e+00\n",
      "  1.00219497e+00  5.39220121e-01  1.92393261e+00  1.17986514e+00\n",
      "  5.95914318e-01  1.53977964e+00  1.95406959e-01  4.20900371e-01\n",
      "  2.24832230e-01  9.83152701e-01  4.83934490e-01 -6.95770922e-01\n",
      "  5.72051374e-01 -1.74152569e+00  9.59568170e-01  1.41809424e+00\n",
      " -1.01087968e+01  1.52557645e+00  1.57614915e+00 -1.16215045e+00\n",
      "  8.30943194e-01  1.06908261e+00  9.32714009e-01 -1.09678140e+01\n",
      "  9.97563422e-01 -4.02180146e+00  1.46174249e-01 -3.61051665e-02\n",
      "  9.09965070e-02  4.78823908e-01  8.22639276e-01  1.37565482e+00\n",
      "  7.36388117e-02  9.39263439e-01  3.41883191e-01  4.71853239e-01\n",
      "  3.28817272e-01  2.31240110e+00  9.34424128e-01  5.33636173e-01\n",
      "  1.27925891e+00  1.09810856e+00  1.59743404e-01  1.33775858e+00\n",
      "  3.34648623e-01  9.26047097e+00  6.50099405e-01]\n"
     ]
    }
   ],
   "source": [
    "import pyswarms as ps\n",
    "from sklearn.datasets import load_iris\n",
    "import matplotlib.pyplot as plt\n",
    "import numpy as np\n",
    "import sys\n",
    "\n",
    "X = x_train\n",
    "y = y_train\n",
    "\n",
    "print(X.shape)\n",
    "print(y.shape)\n",
    "\n",
    "# Initialize swarm\n",
    "options = {'c1': 0.5, 'c2': 0.3, 'w': 0.9}\n",
    "\n",
    "# Call instance of PSO\n",
    "# dimensions = (4 * 20) + (20 * 3) + 20 + 3\n",
    "dimensions = (n_inputs * n_hidden) + (n_hidden * n_classes) + n_hidden + n_classes\n",
    "print(\"Dimension\", dimensions)\n",
    "optimizer = ps.single.GlobalBestPSO(\n",
    "    n_particles=100, dimensions=dimensions, options=options)\n",
    "\n",
    "# Perform optimization\n",
    "cost, pos = optimizer.optimize(f, iters=1000, verbose=3)"
   ]
  },
  {
   "cell_type": "code",
   "execution_count": 11,
   "metadata": {},
   "outputs": [
    {
     "name": "stdout",
     "output_type": "stream",
     "text": [
      "Accuracy on Unseen Data: 0.8611111111111112\n"
     ]
    },
    {
     "data": {
      "image/png": "[encoded data removed]",
      "text/plain": [
       "<Figure size 432x288 with 1 Axes>"
      ]
     },
     "metadata": {
      "needs_background": "light"
     },
     "output_type": "display_data"
    },
    {
     "data": {
      "image/png": "[encoded data removed]",
      "text/plain": [
       "<Figure size 432x288 with 1 Axes>"
      ]
     },
     "metadata": {
      "needs_background": "light"
     },
     "output_type": "display_data"
    }
   ],
   "source": [
    "Test_acc = (predict(x_test, pos) == y_test).mean()\n",
    "\n",
    "print(\"Accuracy on Unseen Data:\", Test_acc)\n",
    "\n",
    "plt.plot(optimizer.cost_history)\n",
    "plt.title(\"COST\")\n",
    "plt.show()\n",
    "\n",
    "pos_history = optimizer.pos_history\n",
    "pos_history = optimizer.pos_history\n",
    "acc_history = [max([(predict(x_test, pos) == y_test).mean() for pos in pos_pop]) for pos_pop in pos_history]\n",
    "plt.plot(acc_history)\n",
    "plt.title(\"Accuracy\")\n",
    "plt.show()\n",
    "\n",
    "saveReport(acc_history, optimizer.cost_history)"
   ]
  },
  {
   "cell_type": "code",
   "execution_count": 12,
   "metadata": {},
   "outputs": [
    {
     "data": {
      "text/plain": [
       "[<matplotlib.lines.Line2D at 0x1f1f4c3cf88>]"
      ]
     },
     "execution_count": 12,
     "metadata": {},
     "output_type": "execute_result"
    },
    {
     "data": {
      "image/png": "[encoded data removed]",
      "text/plain": [
       "<Figure size 432x288 with 1 Axes>"
      ]
     },
     "metadata": {
      "needs_background": "light"
     },
     "output_type": "display_data"
    }
   ],
   "source": [
    "pos_history = optimizer.pos_history\n",
    "pos_history = optimizer.pos_history\n",
    "acc_history = [max([(predict(x_test, pos) == y_test).mean() for pos in pos_pop]) for pos_pop in pos_history]\n",
    "plt.plot(acc_history)"
   ]
  }
 ],
 "metadata": {
  "interpreter": {
   "hash": "0b41b614c6c44926803297f7350f5772704ee7eec981e74618681f951a073a73"
  },
  "kernelspec": {
   "display_name": "Python 3.7.9 64-bit",
   "language": "python",
   "name": "python3"
  },
  "language_info": {
   "codemirror_mode": {
    "name": "ipython",
    "version": 3
   },
   "file_extension": ".py",
   "mimetype": "text/x-python",
   "name": "python",
   "nbconvert_exporter": "python",
   "pygments_lexer": "ipython3",
   "version": "3.7.9"
  },
  "orig_nbformat": 4
 },
 "nbformat": 4,
 "nbformat_minor": 2
}
