{
 "cells": [
  {
   "cell_type": "code",
   "execution_count": 1,
   "metadata": {},
   "outputs": [
    {
     "name": "stdout",
     "output_type": "stream",
     "text": [
      "(670, 2) (670,)\n",
      "[5.39686745 1.05100436] 1\n",
      "[-9.45173042  7.02105323] 3\n",
      "[-3.70050112  9.67083974] 0\n",
      "[-1.69568041  7.78342181] 0\n",
      "[-8.20455088  7.73732201] 3\n",
      "[2.97047356 2.51652988] 1\n",
      "[-2.41743685  7.02671721] 0\n",
      "[-9.82691886  6.2199336 ] 3\n",
      "[-9.0973699   7.12717307] 3\n",
      "[3.76426058 0.59036995] 1\n",
      "Y_TRAIN\n",
      "SHAPE:  (670,)\n",
      "First:  1\n",
      "FShpe:  ()\n"
     ]
    },
    {
     "data": {
      "image/png": "[encoded data removed]",
      "text/plain": [
       "<Figure size 432x288 with 1 Axes>"
      ]
     },
     "metadata": {
      "needs_background": "light"
     },
     "output_type": "display_data"
    }
   ],
   "source": [
    "# https://www.knowledgehut.com/blog/data-science/types-of-classification-in-ml\n",
    "from sklearn.datasets import make_blobs \n",
    "from collections import Counter \n",
    "from numpy import where \n",
    "from sklearn.preprocessing import OneHotEncoder\n",
    "from sklearn.model_selection import train_test_split\n",
    "import matplotlib.pyplot as plt\n",
    "\n",
    "# X, y = make_blobs(n_samples=670, centers=4, random_state=42) \n",
    "# my_counter = Counter(y) \n",
    "# for my_label, _ in my_counter.items(): \n",
    "# \trow_ix = where(y == my_label)[0] \n",
    "# \tplt.scatter(X[row_ix, 0], X[row_ix, 1], label=str(my_label))\n",
    "# print(X.shape, y.shape)\n",
    "# for i in range(10):\n",
    "# \tprint(X[i], y[i])\n",
    "\n",
    "# # le = OneHotEncoder()\n",
    "# # yy = y.reshape(-1, 1)\n",
    "# # y = le.fit_transform(yy).toarray()\n",
    "\n",
    "# print(\"Y_TRAIN\")\n",
    "# print(\"SHAPE: \",y.shape)\n",
    "# print(\"First: \",y[0])\n",
    "# print(\"FShpe: \",y[0].shape)\n",
    "\n",
    "# x_train, x_test, y_train, y_test = train_test_split(X, y, test_size=0.20, random_state=42)"
   ]
  },
  {
   "cell_type": "code",
   "execution_count": 2,
   "metadata": {},
   "outputs": [
    {
     "name": "stdout",
     "output_type": "stream",
     "text": [
      "Example data: \n"
     ]
    },
    {
     "name": "stderr",
     "output_type": "stream",
     "text": [
      "C:\\Users\\johan\\AppData\\Local\\Programs\\Python\\Python37\\lib\\site-packages\\ipykernel_launcher.py:11: MatplotlibDeprecationWarning: Passing non-integers as three-element position specification is deprecated since 3.3 and will be removed two minor releases later.\n",
      "  # This is added back by InteractiveShellApp.init_path()\n"
     ]
    },
    {
     "name": "stdout",
     "output_type": "stream",
     "text": [
      "Y_TRAIN\n",
      "SHAPE:  (10000,)\n",
      "First:  7\n",
      "FShpe:  ()\n"
     ]
    },
    {
     "data": {
      "image/png": "[encoded data removed]",
      "text/plain": [
       "<Figure size 432x288 with 5 Axes>"
      ]
     },
     "metadata": {
      "needs_background": "light"
     },
     "output_type": "display_data"
    }
   ],
   "source": [
    "# Loading MNIST Datasets\n",
    "# Additional Reference for loading & preprocessing the dataset \n",
    "# https://machinelearningmastery.com/how-to-develop-a-convolutional-neural-network-from-scratch-for-mnist-handwritten-digit-classification/\n",
    "import tensorflow.keras.datasets.mnist as mnist_dataset\n",
    "import numpy as np\n",
    "\n",
    "(x_train, y_train), (x_test, y_test) = mnist_dataset.load_data()\n",
    "\n",
    "print('Example data: ')\n",
    "for idx, x in enumerate(zip(x_train[:5], y_train[:5])):\n",
    "    plt.subplot(\"15{}\".format(idx))\n",
    "    plt.title(x[1])\n",
    "    plt.imshow(x[0])\n",
    "\n",
    "# Cast as float\n",
    "x_train = x_train.astype(\"float32\")\n",
    "x_test = x_test.astype(\"float32\")\n",
    "\n",
    "# Normalize Data\n",
    "x_train /= 255.0\n",
    "x_test /= 255.0\n",
    "\n",
    "# Prepare data for\n",
    "# x_train = x_train.reshape((x_train.shape[0], 28, 28, 1))\n",
    "# x_test = x_test.reshape((x_test.shape[0], 28, 28, 1))\n",
    "\n",
    "# Flatten the input (Because we do not use CNN)\n",
    "x_train = np.array([x.flatten() for x in x_train])\n",
    "x_test = np.array([x.flatten() for x in x_test])\n",
    "\n",
    "# # Transform Labels\n",
    "# le = OneHotEncoder()\n",
    "# yy = y_train.reshape(-1, 1)\n",
    "# # y_train = le.fit_transform(yy).toarray()\n",
    "# le.fit(yy)\n",
    "# y_train = le.transform(yy).toarray()\n",
    "\n",
    "# yy = y_test.reshape(-1, 1)\n",
    "# # y_test = le.fit_transform(yy).toarray()\n",
    "# y_test = le.transform(yy).toarray()\n",
    "\n",
    "print(\"Y_TRAIN\")\n",
    "print(\"SHAPE: \",y_test.shape)\n",
    "print(\"First: \",y_test[0])\n",
    "print(\"FShpe: \",y_test[0].shape)"
   ]
  },
  {
   "cell_type": "code",
   "execution_count": 6,
   "metadata": {},
   "outputs": [],
   "source": [
    "# PSO Implementation\n",
    " # Neural network architecture\n",
    "# n_inputs = x_train[0].shape[0]\n",
    "# n_hidden = 20\n",
    "# n_classes = 4\n",
    "n_inputs = x_train[0].shape[0]\n",
    "n_hidden = 100\n",
    "n_classes = 10\n",
    "\n",
    "# Forward propagation\n",
    "def forward_prop(params):\n",
    "    \"\"\"Forward propagation as objective function\n",
    "\n",
    "    This computes for the forward propagation of the neural network, as\n",
    "    well as the loss. It receives a set of parameters that must be \n",
    "    rolled-back into the corresponding weights and biases.\n",
    "\n",
    "    Inputs\n",
    "    ------\n",
    "    params: np.ndarray\n",
    "        The dimensions should include an unrolled version of the \n",
    "        weights and biases.\n",
    "\n",
    "    Returns\n",
    "    -------\n",
    "    float\n",
    "        The computed negative log-likelihood loss given the parameters\n",
    "    \"\"\"\n",
    "   \n",
    "    # Roll-back the weights and biases\n",
    "    W1_len = n_inputs * n_hidden\n",
    "    b1_len = W1_len + n_hidden\n",
    "    W2_len = b1_len + (n_hidden * n_classes)\n",
    "\n",
    "\n",
    "    # print(b1_len,W2_len)\n",
    "    # print(params[b1_len:W2_len])\n",
    "    # W1 = params[0:80].reshape((n_inputs, n_hidden)) \n",
    "    # b1 = params[80:100].reshape((n_hidden,))\n",
    "    # W2 = params[100:160].reshape((n_hidden, n_classes))\n",
    "    # b2 = params[160:163].reshape((n_classes,))\n",
    "    W1 = params[0:W1_len].reshape((n_inputs, n_hidden)) \n",
    "    b1 = params[W1_len:b1_len].reshape((n_hidden,))\n",
    "    W2 = params[b1_len:W2_len].reshape((n_hidden, n_classes))\n",
    "    b2 = params[W2_len:dimensions].reshape((n_classes,))\n",
    "\n",
    "    # Perform forward propagation\n",
    "    z1 = X.dot(W1) + b1  # Pre-activation in Layer 1\n",
    "    a1 = np.tanh(z1)     # Activation in Layer 1\n",
    "    z2 = a1.dot(W2) + b2  # Pre-activation in Layer 2\n",
    "    logits = z2          # Logits for Layer 2\n",
    "\n",
    "    # Compute for the softmax of the logits\n",
    "    exp_scores = np.exp(logits)\n",
    "    probs = exp_scores / np.sum(exp_scores, axis=1, keepdims=True)\n",
    "\n",
    "    # Compute for the negative log likelihood\n",
    "    # N = 150  # Number of samples\n",
    "    N = probs.shape[0]  # Number of samples\n",
    "    corect_logprobs = -np.log(probs[range(N), y])\n",
    "    loss = np.sum(corect_logprobs) / N\n",
    "\n",
    "    return loss\n",
    "\n",
    "\n",
    "def f(x):\n",
    "    \"\"\"Higher-level method to do forward_prop in the \n",
    "    whole swarm.\n",
    "\n",
    "    Inputs\n",
    "    ------\n",
    "    x: numpy.ndarray of shape (n_particles, dimensions)\n",
    "        The swarm that will perform the search\n",
    "\n",
    "    Returns\n",
    "    -------\n",
    "    numpy.ndarray of shape (n_particles, )\n",
    "        The computed loss for each particle\n",
    "    \"\"\"\n",
    "    n_particles = x.shape[0]\n",
    "    j = [forward_prop(x[i]) for i in range(n_particles)]\n",
    "    return np.array(j)\n",
    "\n",
    "\n",
    "def predict(X, pos):\n",
    "    \"\"\"\n",
    "    Use the trained weights to perform class predictions.\n",
    "\n",
    "    Inputs\n",
    "    ------\n",
    "    X: numpy.ndarray\n",
    "        Input Iris dataset\n",
    "    pos: numpy.ndarray\n",
    "        Position matrix found by the swarm. Will be rolled\n",
    "        into weights and biases.\n",
    "    \"\"\"\n",
    "\n",
    "    # Roll-back the weights and biases\n",
    "    W1_len = n_inputs * n_hidden\n",
    "    b1_len = W1_len + n_hidden\n",
    "    W2_len = b1_len + (n_hidden * n_classes)\n",
    "\n",
    "    # print(W1_len,b1_len)\n",
    "    # print(pos[W1_len:b1_len])\n",
    "    # W1 = pos[0:80].reshape((n_inputs, n_hidden)) \n",
    "    # b1 = pos[80:100].reshape((n_hidden,))\n",
    "    # W2 = pos[100:160].reshape((n_hidden, n_classes))\n",
    "    # b2 = pos[160:163].reshape((n_classes,))\n",
    "    W1 = pos[0:W1_len].reshape((n_inputs, n_hidden)) \n",
    "    b1 = pos[W1_len:b1_len].reshape((n_hidden,))\n",
    "    W2 = pos[b1_len:W2_len].reshape((n_hidden, n_classes))\n",
    "    b2 = pos[W2_len:dimensions].reshape((n_classes,))\n",
    "    #print (W1)\n",
    "    #print (b1)\n",
    "    # Perform forward propagation\n",
    "    z1 = X.dot(W1) + b1  # Pre-activation in Layer 1\n",
    "    a1 = np.tanh(z1)     # Activation in Layer 1\n",
    "    z2 = a1.dot(W2) + b2  # Pre-activation in Layer 2\n",
    "    logits = z2          # Logits for Layer 2\n",
    "\n",
    "    y_pred = np.argmax(logits, axis=1)\n",
    "    return y_pred"
   ]
  },
  {
   "cell_type": "code",
   "execution_count": 22,
   "metadata": {},
   "outputs": [
    {
     "name": "stdout",
     "output_type": "stream",
     "text": [
      "[21. 26. 20. 21. 21. 13. 19. 21. 15. 23.]\n",
      "(200, 784)\n",
      "(200,)\n",
      "Dimension 79510\n"
     ]
    },
    {
     "name": "stderr",
     "output_type": "stream",
     "text": [
      "2022-02-05 21:53:01,404 - pyswarms.single.global_best - INFO - Optimize for 100 iters with {'c1': 0.5, 'c2': 0.3, 'w': 0.9}\n",
      "pyswarms.single.global_best: 100%|██████████|100/100, best_cost=2.29\n",
      "2022-02-05 21:54:21,808 - pyswarms.single.global_best - INFO - Optimization finished | best cost: 2.2864122816590013, best pos: [-0.50059956  0.4928069   0.82428151 ...  0.40097422 -0.17292088\n",
      " -0.00789888]\n"
     ]
    }
   ],
   "source": [
    "import pyswarms as ps\n",
    "from sklearn.datasets import load_iris\n",
    "import matplotlib.pyplot as plt\n",
    "import numpy as np\n",
    "import sys\n",
    "# Change directory to access the pyswarms module\n",
    "sys.path.append('../')\n",
    "\n",
    "\n",
    "# Load the iris dataset\n",
    "data = load_iris()\n",
    "\n",
    "# Store the features as X and the labels as y\n",
    "X = data.data\n",
    "y = data.target\n",
    "# print(X.shape)\n",
    "# print(y.shape)\n",
    "# print(X[0]) # [5.1 3.5 1.4 0.2]\n",
    "# print(y[0]) # 0\n",
    "\n",
    "X = x_train[:200]\n",
    "y = y_train[:200]\n",
    "freq=np.zeros(10)\n",
    "for el in y:\n",
    "    # print(el)\n",
    "    freq[el] += 1\n",
    "print(freq)\n",
    "\n",
    "print(X.shape)\n",
    "print(y.shape)\n",
    "# print(X[0]) # [5.1 3.5 1.4 0.2]\n",
    "# print(y[0]) # 0\n",
    "\n",
    "# Initialize swarm\n",
    "options = {'c1': 0.5, 'c2': 0.3, 'w': 0.9}\n",
    "\n",
    "\n",
    "# Call instance of PSO\n",
    "# dimensions = (4 * 20) + (20 * 3) + 20 + 3\n",
    "dimensions = (n_inputs * n_hidden) + (n_hidden * n_classes) + n_hidden + n_classes\n",
    "print(\"Dimension\", dimensions)\n",
    "optimizer = ps.single.GlobalBestPSO(\n",
    "    n_particles=100, dimensions=dimensions, options=options)\n",
    "\n",
    "# Perform optimization\n",
    "cost, pos = optimizer.optimize(f, iters=100, verbose=3)"
   ]
  },
  {
   "cell_type": "code",
   "execution_count": 24,
   "metadata": {},
   "outputs": [
    {
     "name": "stdout",
     "output_type": "stream",
     "text": [
      "[1 1 1 ... 1 1 1]\n",
      "[1]\n",
      "[1]\n",
      "[1]\n"
     ]
    },
    {
     "name": "stderr",
     "output_type": "stream",
     "text": [
      "C:\\Users\\johan\\AppData\\Local\\Programs\\Python\\Python37\\lib\\site-packages\\ipykernel_launcher.py:3: MatplotlibDeprecationWarning: Passing non-integers as three-element position specification is deprecated since 3.3 and will be removed two minor releases later.\n",
      "  This is separate from the ipykernel package so we can avoid doing imports until\n"
     ]
    },
    {
     "name": "stdout",
     "output_type": "stream",
     "text": [
      "[1]\n",
      "[1]\n"
     ]
    },
    {
     "data": {
      "image/png": "[encoded data removed]",
      "text/plain": [
       "<Figure size 432x288 with 5 Axes>"
      ]
     },
     "metadata": {
      "needs_background": "light"
     },
     "output_type": "display_data"
    },
    {
     "name": "stdout",
     "output_type": "stream",
     "text": [
      "Accuracy on Unseen Data: 0.1134\n"
     ]
    },
    {
     "data": {
      "image/png": "[encoded data removed]",
      "text/plain": [
       "<Figure size 432x288 with 1 Axes>"
      ]
     },
     "metadata": {
      "needs_background": "light"
     },
     "output_type": "display_data"
    }
   ],
   "source": [
    "Test_acc = (predict(x_test, pos) == y_test).mean()\n",
    "for idx, x in enumerate(zip(x_test[:5], y_test[:5])):\n",
    "    plt.subplot(\"15{}\".format(idx))\n",
    "    pred = predict(np.array([x[0]]), pos)\n",
    "    plt.title(\"{}:{}\".format(x[1], pred))\n",
    "    plt.imshow(np.array(x[0]).reshape((28,28,1)))\n",
    "    # break\n",
    "plt.show(block=False)\n",
    "\n",
    "print(\"Accuracy on Unseen Data:\", Test_acc)\n",
    "\n",
    "\n",
    "plt.plot(optimizer.cost_history)\n",
    "plt.plot(optimizer.pos_history)\n",
    "plt.show()"
   ]
  }
 ],
 "metadata": {
  "interpreter": {
   "hash": "0b41b614c6c44926803297f7350f5772704ee7eec981e74618681f951a073a73"
  },
  "kernelspec": {
   "display_name": "Python 3.7.9 64-bit",
   "language": "python",
   "name": "python3"
  },
  "language_info": {
   "codemirror_mode": {
    "name": "ipython",
    "version": 3
   },
   "file_extension": ".py",
   "mimetype": "text/x-python",
   "name": "python",
   "nbconvert_exporter": "python",
   "pygments_lexer": "ipython3",
   "version": "3.7.9"
  },
  "orig_nbformat": 4
 },
 "nbformat": 4,
 "nbformat_minor": 2
}
