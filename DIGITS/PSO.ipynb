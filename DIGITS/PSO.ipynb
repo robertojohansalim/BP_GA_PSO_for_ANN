{
 "cells": [
  {
   "cell_type": "code",
   "execution_count": 1,
   "metadata": {},
   "outputs": [],
   "source": [
    "# https://www.knowledgehut.com/blog/data-science/types-of-classification-in-ml\n",
    "from sklearn.datasets import make_blobs \n",
    "from collections import Counter \n",
    "from numpy import where \n",
    "from sklearn.preprocessing import OneHotEncoder\n",
    "from sklearn.model_selection import train_test_split\n",
    "import matplotlib.pyplot as plt\n"
   ]
  },
  {
   "cell_type": "code",
   "execution_count": 2,
   "metadata": {},
   "outputs": [],
   "source": [
    "from sklearn import datasets\n",
    "from sklearn.model_selection import train_test_split\n",
    "from sklearn.preprocessing import OneHotEncoder\n",
    "import pickle\n",
    "\n",
    "def load_datasets(datasets_name=\"iris\"):\n",
    "    if datasets_name == \"iris\":\n",
    "        dataset = datasets.load_iris()\n",
    "    elif datasets_name == \"wine\":\n",
    "        dataset = datasets.load_wine()\n",
    "\n",
    "    X = dataset.data\n",
    "    y = dataset.target\n",
    "\n",
    "    # Split the data for training and testing\n",
    "    x_train, x_test, y_train, y_test = train_test_split(X, y, test_size=0.20, random_state=42)\n",
    "    return x_train, x_test, y_train, y_test\n",
    "\n",
    "def saveReport(accuracy_history):\n",
    "    data = {\n",
    "        \"accuracy_history\": accuracy_history\n",
    "    }\n",
    "    pickle.dump(data, open(\"./PSO_report.pkl\", \"wb\"))\n",
    "\n",
    "x_train, x_test, y_train, y_test = load_datasets()\n"
   ]
  },
  {
   "cell_type": "code",
   "execution_count": 3,
   "metadata": {},
   "outputs": [],
   "source": [
    "n_inputs = x_train[0].shape[0]\n",
    "n_hidden = 20\n",
    "n_classes = 3\n",
    "\n",
    "# Forward propagation\n",
    "def forward_prop(params):\n",
    "    \"\"\"Forward propagation as objective function\n",
    "\n",
    "    This computes for the forward propagation of the neural network, as\n",
    "    well as the loss. It receives a set of parameters that must be \n",
    "    rolled-back into the corresponding weights and biases.\n",
    "\n",
    "    Inputs\n",
    "    ------\n",
    "    params: np.ndarray\n",
    "        The dimensions should include an unrolled version of the \n",
    "        weights and biases.\n",
    "\n",
    "    Returns\n",
    "    -------\n",
    "    float\n",
    "        The computed negative log-likelihood loss given the parameters\n",
    "    \"\"\"\n",
    "   \n",
    "    # Roll-back the weights and biases\n",
    "    W1_len = n_inputs * n_hidden\n",
    "    b1_len = W1_len + n_hidden\n",
    "    W2_len = b1_len + (n_hidden * n_classes)\n",
    "\n",
    "    W1 = params[0:W1_len].reshape((n_inputs, n_hidden)) \n",
    "    b1 = params[W1_len:b1_len].reshape((n_hidden,))\n",
    "    W2 = params[b1_len:W2_len].reshape((n_hidden, n_classes))\n",
    "    b2 = params[W2_len:dimensions].reshape((n_classes,))\n",
    "\n",
    "    # Perform forward propagation\n",
    "    z1 = X.dot(W1) + b1  # Pre-activation in Layer 1\n",
    "    a1 = np.tanh(z1)     # Activation in Layer 1\n",
    "    z2 = a1.dot(W2) + b2  # Pre-activation in Layer 2\n",
    "    logits = z2          # Logits for Layer 2\n",
    "\n",
    "    # Compute for the softmax of the logits\n",
    "    exp_scores = np.exp(logits)\n",
    "    probs = exp_scores / np.sum(exp_scores, axis=1, keepdims=True)\n",
    "\n",
    "    # Compute for the negative log likelihood\n",
    "    # N = 150  # Number of samples\n",
    "    N = probs.shape[0]  # Number of samples\n",
    "    corect_logprobs = -np.log(probs[range(N), y])\n",
    "    loss = np.sum(corect_logprobs) / N\n",
    "\n",
    "    return loss\n",
    "\n",
    "\n",
    "def f(x):\n",
    "    \"\"\"Higher-level method to do forward_prop in the \n",
    "    whole swarm.\n",
    "\n",
    "    Inputs\n",
    "    ------\n",
    "    x: numpy.ndarray of shape (n_particles, dimensions)\n",
    "        The swarm that will perform the search\n",
    "\n",
    "    Returns\n",
    "    -------\n",
    "    numpy.ndarray of shape (n_particles, )\n",
    "        The computed loss for each particle\n",
    "    \"\"\"\n",
    "    n_particles = x.shape[0]\n",
    "    j = [forward_prop(x[i]) for i in range(n_particles)]\n",
    "    return np.array(j)\n",
    "\n",
    "\n",
    "def predict(X, pos):\n",
    "    \"\"\"\n",
    "    Use the trained weights to perform class predictions.\n",
    "\n",
    "    Inputs\n",
    "    ------\n",
    "    X: numpy.ndarray\n",
    "        Input Iris dataset\n",
    "    pos: numpy.ndarray\n",
    "        Position matrix found by the swarm. Will be rolled\n",
    "        into weights and biases.\n",
    "    \"\"\"\n",
    "\n",
    "    # Roll-back the weights and biases\n",
    "    W1_len = n_inputs * n_hidden\n",
    "    b1_len = W1_len + n_hidden\n",
    "    W2_len = b1_len + (n_hidden * n_classes)\n",
    "\n",
    "    W1 = pos[0:W1_len].reshape((n_inputs, n_hidden)) \n",
    "    b1 = pos[W1_len:b1_len].reshape((n_hidden,))\n",
    "    W2 = pos[b1_len:W2_len].reshape((n_hidden, n_classes))\n",
    "    b2 = pos[W2_len:dimensions].reshape((n_classes,))\n",
    "    # Perform forward propagation\n",
    "    z1 = X.dot(W1) + b1  # Pre-activation in Layer 1\n",
    "    a1 = np.tanh(z1)     # Activation in Layer 1\n",
    "    z2 = a1.dot(W2) + b2  # Pre-activation in Layer 2\n",
    "    logits = z2          # Logits for Layer 2\n",
    "\n",
    "    y_pred = np.argmax(logits, axis=1)\n",
    "    return y_pred"
   ]
  },
  {
   "cell_type": "code",
   "execution_count": 4,
   "metadata": {},
   "outputs": [
    {
     "name": "stderr",
     "output_type": "stream",
     "text": [
      "2022-02-06 22:42:22,652 - pyswarms.single.global_best - INFO - Optimize for 1000 iters with {'c1': 0.5, 'c2': 0.3, 'w': 0.9}\n"
     ]
    },
    {
     "name": "stdout",
     "output_type": "stream",
     "text": [
      "(120, 4)\n",
      "(120,)\n"
     ]
    },
    {
     "name": "stderr",
     "output_type": "stream",
     "text": [
      "pyswarms.single.global_best: 100%|██████████|1000/1000, best_cost=0.00671\n",
      "2022-02-06 22:42:41,738 - pyswarms.single.global_best - INFO - Optimization finished | best cost: 0.0067101844579900375, best pos: [ 4.94510982e-01  9.52001820e-01  1.25469744e+00 -4.89807770e-01\n",
      "  1.78773456e+00  8.43975153e-01 -5.01314168e-01  1.01419776e+00\n",
      " -8.11178438e-01 -2.50930632e+00 -4.94487254e-02  1.38284515e+00\n",
      "  7.27570007e-01 -2.47707941e-01  2.20822544e-01 -1.95182896e-01\n",
      "  4.38079581e-01 -7.65550431e-01  3.01446786e+00  1.34601072e+00\n",
      " -3.09889789e-01  1.49488209e+00  4.28860886e+00 -8.17708523e-01\n",
      "  2.26413322e-01 -1.12078351e+00  1.47916030e+00  2.36482225e+00\n",
      " -3.66526164e-01  2.10374442e+00 -8.70314302e-01  2.11012203e-02\n",
      " -1.71086755e+00  1.49482243e+00 -1.11986222e+00  1.92781534e+00\n",
      "  2.65074170e+00 -1.79891723e+00  4.55537747e-01  3.17698372e+00\n",
      "  3.21785306e+00  4.04116283e+00 -2.40901404e-01  2.46613469e+00\n",
      " -1.74411362e-01 -5.26577106e-01 -1.04585407e+00 -1.94594606e+00\n",
      "  9.55776929e-02  3.42180321e-01  1.16199206e+00 -6.99630651e-01\n",
      "  2.09344710e+00  5.30942969e-01 -3.23286606e+00  9.54844744e-01\n",
      " -2.41489805e+00  1.68300466e+00 -9.23043403e-01 -2.19335378e+00\n",
      "  2.64170270e+00 -5.04381545e-01  4.67509365e-01 -3.53675377e+00\n",
      "  2.03333077e-01 -1.40154925e-01  2.66122375e+00 -4.85750943e+00\n",
      " -8.26299759e-01 -1.18208618e+00 -7.91855780e-01  5.75372093e+00\n",
      "  8.43455384e-02 -2.53685739e+00  2.34929982e+00 -8.86103847e-01\n",
      "  5.20030223e-01 -2.43846203e+00  2.89693340e-02 -3.25954069e+00\n",
      " -3.53636653e+00 -5.49087292e-01 -1.62808958e+00  1.57919706e-01\n",
      " -9.93537245e-01 -3.70442517e-01 -8.60662382e-01 -3.14988793e+00\n",
      " -4.28168182e-01  8.66140569e-01 -1.08994397e+00  1.26200399e+00\n",
      "  1.80233507e+00 -5.98307726e-01 -1.53152330e-01  3.54817514e-01\n",
      " -3.62842229e-01 -1.48037669e+00 -6.86730617e-01 -1.02635948e+00\n",
      "  1.36336808e+00  8.70930807e-01 -6.13392953e-01  8.00235730e-01\n",
      "  2.24994704e+00  6.59878349e-01 -2.88934239e+00 -1.14841303e-01\n",
      "  9.51941621e-02 -2.62598046e+00  3.71061206e+01  5.24926267e-01\n",
      "  9.36519051e-01  8.30851353e-01 -6.54157748e-01  4.83571346e-01\n",
      "  1.35410058e+00 -4.43130440e-01  6.00836977e-01 -3.52520305e+01\n",
      "  1.17398403e+00  1.88217601e+00 -4.41987727e+00 -7.41039600e-03\n",
      " -4.43424591e-01 -3.32720196e+00 -2.51615533e+00  6.95742634e-01\n",
      "  2.32364029e+00  1.59030242e-01 -2.76648914e+00  5.03756510e-01\n",
      "  1.01858161e+02 -4.10378012e+00  8.26077672e+00  8.65638780e-01\n",
      "  2.28831711e+00 -4.48049586e-01 -1.83931449e+00  2.22789184e+00\n",
      "  1.06934530e+00  3.60337942e-01  1.21850591e+00  4.26991377e-01\n",
      " -3.06396757e+00  1.42999037e+00  2.15285587e+00 -1.31839960e-01\n",
      " -2.33095904e-01  1.51477378e+01 -3.48242537e+00 -5.88297832e-01\n",
      " -1.19666144e+01 -1.50805717e+00 -4.00600925e-01  5.93862015e-01\n",
      "  7.50008356e-01  1.83756014e+00 -8.85923008e+00  7.57424702e-01\n",
      " -8.01852110e-01 -9.04490802e-01 -1.29606701e+00]\n"
     ]
    }
   ],
   "source": [
    "import pyswarms as ps\n",
    "from sklearn.datasets import load_iris\n",
    "import matplotlib.pyplot as plt\n",
    "import numpy as np\n",
    "import sys\n",
    "\n",
    "X = x_train\n",
    "y = y_train\n",
    "\n",
    "print(X.shape)\n",
    "print(y.shape)\n",
    "\n",
    "# Initialize swarm\n",
    "options = {'c1': 0.5, 'c2': 0.3, 'w': 0.9}\n",
    "\n",
    "# Call instance of PSO\n",
    "# dimensions = (4 * 20) + (20 * 3) + 20 + 3\n",
    "dimensions = (n_inputs * n_hidden) + (n_hidden * n_classes) + n_hidden + n_classes\n",
    "optimizer = ps.single.GlobalBestPSO(\n",
    "    n_particles=100, dimensions=dimensions, options=options)\n",
    "\n",
    "# Perform optimization\n",
    "cost, pos = optimizer.optimize(f, iters=1000, verbose=3)"
   ]
  },
  {
   "cell_type": "code",
   "execution_count": 5,
   "metadata": {},
   "outputs": [
    {
     "name": "stdout",
     "output_type": "stream",
     "text": [
      "Accuracy on Unseen Data: 1.0\n"
     ]
    },
    {
     "data": {
      "image/png": "[encoded data removed]",
      "text/plain": [
       "<Figure size 432x288 with 1 Axes>"
      ]
     },
     "metadata": {
      "needs_background": "light"
     },
     "output_type": "display_data"
    },
    {
     "data": {
      "image/png": "[encoded data removed]",
      "text/plain": [
       "<Figure size 432x288 with 1 Axes>"
      ]
     },
     "metadata": {
      "needs_background": "light"
     },
     "output_type": "display_data"
    }
   ],
   "source": [
    "Test_acc = (predict(x_test, pos) == y_test).mean()\n",
    "\n",
    "print(\"Accuracy on Unseen Data:\", Test_acc)\n",
    "\n",
    "plt.plot(optimizer.cost_history)\n",
    "plt.title(\"COST\")\n",
    "plt.show()\n",
    "\n",
    "pos_history = optimizer.pos_history\n",
    "pos_history = optimizer.pos_history\n",
    "acc_history = [max([(predict(x_test, pos) == y_test).mean() for pos in pos_pop]) for pos_pop in pos_history]\n",
    "plt.plot(acc_history)\n",
    "plt.title(\"Accuracy\")\n",
    "plt.show()\n",
    "\n",
    "saveReport(acc_history * 100)"
   ]
  }
 ],
 "metadata": {
  "interpreter": {
   "hash": "0b41b614c6c44926803297f7350f5772704ee7eec981e74618681f951a073a73"
  },
  "kernelspec": {
   "display_name": "Python 3.7.9 64-bit",
   "language": "python",
   "name": "python3"
  },
  "language_info": {
   "codemirror_mode": {
    "name": "ipython",
    "version": 3
   },
   "file_extension": ".py",
   "mimetype": "text/x-python",
   "name": "python",
   "nbconvert_exporter": "python",
   "pygments_lexer": "ipython3",
   "version": "3.7.9"
  },
  "orig_nbformat": 4
 },
 "nbformat": 4,
 "nbformat_minor": 2
}
