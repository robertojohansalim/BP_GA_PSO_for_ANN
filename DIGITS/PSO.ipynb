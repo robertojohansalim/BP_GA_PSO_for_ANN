{
 "cells": [
  {
   "cell_type": "code",
   "execution_count": 1,
   "metadata": {},
   "outputs": [],
   "source": [
    "# https://www.knowledgehut.com/blog/data-science/types-of-classification-in-ml\n",
    "from sklearn.datasets import make_blobs \n",
    "from collections import Counter \n",
    "from numpy import where \n",
    "from sklearn.preprocessing import OneHotEncoder\n",
    "from sklearn.model_selection import train_test_split\n",
    "import matplotlib.pyplot as plt\n"
   ]
  },
  {
   "cell_type": "code",
   "execution_count": 2,
   "metadata": {},
   "outputs": [],
   "source": [
    "from sklearn import datasets\n",
    "from sklearn.model_selection import train_test_split\n",
    "from sklearn.preprocessing import OneHotEncoder\n",
    "import pickle\n",
    "\n",
    "def load_datasets(datasets_name=\"digits\"):\n",
    "    if datasets_name == \"iris\":\n",
    "        dataset = datasets.load_iris()\n",
    "    elif datasets_name == \"wine\":\n",
    "        dataset = datasets.load_wine()\n",
    "    elif datasets_name == \"digits\":\n",
    "        dataset = datasets.load_digits()\n",
    "\n",
    "    X = dataset.data\n",
    "    y = dataset.target\n",
    "\n",
    "    # Split the data for training and testing\n",
    "    x_train, x_test, y_train, y_test = train_test_split(X, y, test_size=0.20, random_state=42)\n",
    "    return x_train, x_test, y_train, y_test\n",
    "\n",
    "def saveReport(accuracy_history):\n",
    "    data = {\n",
    "        \"accuracy_history\": accuracy_history\n",
    "    }\n",
    "    pickle.dump(data, open(\"./PSO_report.pkl\", \"wb\"))\n",
    "\n",
    "x_train, x_test, y_train, y_test = load_datasets()\n"
   ]
  },
  {
   "cell_type": "code",
   "execution_count": 3,
   "metadata": {},
   "outputs": [],
   "source": [
    "n_inputs = x_train[0].shape[0]\n",
    "n_hidden = 20\n",
    "n_classes = 10\n",
    "\n",
    "# Forward propagation\n",
    "def forward_prop(params):\n",
    "    \"\"\"Forward propagation as objective function\n",
    "\n",
    "    This computes for the forward propagation of the neural network, as\n",
    "    well as the loss. It receives a set of parameters that must be \n",
    "    rolled-back into the corresponding weights and biases.\n",
    "\n",
    "    Inputs\n",
    "    ------\n",
    "    params: np.ndarray\n",
    "        The dimensions should include an unrolled version of the \n",
    "        weights and biases.\n",
    "\n",
    "    Returns\n",
    "    -------\n",
    "    float\n",
    "        The computed negative log-likelihood loss given the parameters\n",
    "    \"\"\"\n",
    "   \n",
    "    # Roll-back the weights and biases\n",
    "    W1_len = n_inputs * n_hidden\n",
    "    b1_len = W1_len + n_hidden\n",
    "    W2_len = b1_len + (n_hidden * n_classes)\n",
    "\n",
    "    W1 = params[0:W1_len].reshape((n_inputs, n_hidden)) \n",
    "    b1 = params[W1_len:b1_len].reshape((n_hidden,))\n",
    "    W2 = params[b1_len:W2_len].reshape((n_hidden, n_classes))\n",
    "    b2 = params[W2_len:dimensions].reshape((n_classes,))\n",
    "\n",
    "    # Perform forward propagation\n",
    "    z1 = X.dot(W1) + b1  # Pre-activation in Layer 1\n",
    "    a1 = np.tanh(z1)     # Activation in Layer 1\n",
    "    z2 = a1.dot(W2) + b2  # Pre-activation in Layer 2\n",
    "    logits = z2          # Logits for Layer 2\n",
    "\n",
    "    # Compute for the softmax of the logits\n",
    "    exp_scores = np.exp(logits)\n",
    "    probs = exp_scores / np.sum(exp_scores, axis=1, keepdims=True)\n",
    "\n",
    "    # Compute for the negative log likelihood\n",
    "    # N = 150  # Number of samples\n",
    "    N = probs.shape[0]  # Number of samples\n",
    "    corect_logprobs = -np.log(probs[range(N), y])\n",
    "    loss = np.sum(corect_logprobs) / N\n",
    "\n",
    "    return loss\n",
    "\n",
    "\n",
    "def f(x):\n",
    "    \"\"\"Higher-level method to do forward_prop in the \n",
    "    whole swarm.\n",
    "\n",
    "    Inputs\n",
    "    ------\n",
    "    x: numpy.ndarray of shape (n_particles, dimensions)\n",
    "        The swarm that will perform the search\n",
    "\n",
    "    Returns\n",
    "    -------\n",
    "    numpy.ndarray of shape (n_particles, )\n",
    "        The computed loss for each particle\n",
    "    \"\"\"\n",
    "    n_particles = x.shape[0]\n",
    "    j = [forward_prop(x[i]) for i in range(n_particles)]\n",
    "    return np.array(j)\n",
    "\n",
    "\n",
    "def predict(X, pos):\n",
    "    \"\"\"\n",
    "    Use the trained weights to perform class predictions.\n",
    "\n",
    "    Inputs\n",
    "    ------\n",
    "    X: numpy.ndarray\n",
    "        Input Iris dataset\n",
    "    pos: numpy.ndarray\n",
    "        Position matrix found by the swarm. Will be rolled\n",
    "        into weights and biases.\n",
    "    \"\"\"\n",
    "\n",
    "    # Roll-back the weights and biases\n",
    "    W1_len = n_inputs * n_hidden\n",
    "    b1_len = W1_len + n_hidden\n",
    "    W2_len = b1_len + (n_hidden * n_classes)\n",
    "\n",
    "    W1 = pos[0:W1_len].reshape((n_inputs, n_hidden)) \n",
    "    b1 = pos[W1_len:b1_len].reshape((n_hidden,))\n",
    "    W2 = pos[b1_len:W2_len].reshape((n_hidden, n_classes))\n",
    "    b2 = pos[W2_len:dimensions].reshape((n_classes,))\n",
    "    # Perform forward propagation\n",
    "    z1 = X.dot(W1) + b1  # Pre-activation in Layer 1\n",
    "    a1 = np.tanh(z1)     # Activation in Layer 1\n",
    "    z2 = a1.dot(W2) + b2  # Pre-activation in Layer 2\n",
    "    logits = z2          # Logits for Layer 2\n",
    "\n",
    "    y_pred = np.argmax(logits, axis=1)\n",
    "    return y_pred"
   ]
  },
  {
   "cell_type": "code",
   "execution_count": 4,
   "metadata": {},
   "outputs": [
    {
     "name": "stderr",
     "output_type": "stream",
     "text": [
      "2022-02-07 00:10:15,864 - pyswarms.single.global_best - INFO - Optimize for 1000 iters with {'c1': 0.5, 'c2': 0.3, 'w': 0.9}\n"
     ]
    },
    {
     "name": "stdout",
     "output_type": "stream",
     "text": [
      "(1437, 64)\n",
      "(1437,)\n"
     ]
    },
    {
     "name": "stderr",
     "output_type": "stream",
     "text": [
      "pyswarms.single.global_best: 100%|██████████|1000/1000, best_cost=2.3\n",
      "2022-02-07 00:12:52,942 - pyswarms.single.global_best - INFO - Optimization finished | best cost: 2.3018379994746243, best pos: [1.03643204 0.44850118 0.42394807 ... 0.76364922 0.11655049 0.42987538]\n"
     ]
    }
   ],
   "source": [
    "import pyswarms as ps\n",
    "from sklearn.datasets import load_iris\n",
    "import matplotlib.pyplot as plt\n",
    "import numpy as np\n",
    "import sys\n",
    "\n",
    "X = x_train\n",
    "y = y_train\n",
    "\n",
    "print(X.shape)\n",
    "print(y.shape)\n",
    "\n",
    "# Initialize swarm\n",
    "options = {'c1': 0.5, 'c2': 0.3, 'w': 0.9}\n",
    "\n",
    "# Call instance of PSO\n",
    "# dimensions = (4 * 20) + (20 * 3) + 20 + 3\n",
    "dimensions = (n_inputs * n_hidden) + (n_hidden * n_classes) + n_hidden + n_classes\n",
    "optimizer = ps.single.GlobalBestPSO(\n",
    "    n_particles=100, dimensions=dimensions, options=options)\n",
    "\n",
    "# Perform optimization\n",
    "cost, pos = optimizer.optimize(f, iters=1000, verbose=3)"
   ]
  },
  {
   "cell_type": "code",
   "execution_count": 5,
   "metadata": {},
   "outputs": [
    {
     "name": "stdout",
     "output_type": "stream",
     "text": [
      "Accuracy on Unseen Data: 0.07777777777777778\n"
     ]
    },
    {
     "data": {
      "image/png": "[encoded data removed]",
      "text/plain": [
       "<Figure size 432x288 with 1 Axes>"
      ]
     },
     "metadata": {
      "needs_background": "light"
     },
     "output_type": "display_data"
    },
    {
     "data": {
      "image/png": "[encoded data removed]",
      "text/plain": [
       "<Figure size 432x288 with 1 Axes>"
      ]
     },
     "metadata": {
      "needs_background": "light"
     },
     "output_type": "display_data"
    }
   ],
   "source": [
    "Test_acc = (predict(x_test, pos) == y_test).mean()\n",
    "\n",
    "print(\"Accuracy on Unseen Data:\", Test_acc)\n",
    "\n",
    "plt.plot(optimizer.cost_history)\n",
    "plt.title(\"COST\")\n",
    "plt.show()\n",
    "\n",
    "pos_history = optimizer.pos_history\n",
    "pos_history = optimizer.pos_history\n",
    "acc_history = [max([(predict(x_test, pos) == y_test).mean() for pos in pos_pop]) for pos_pop in pos_history]\n",
    "plt.plot(acc_history)\n",
    "plt.title(\"Accuracy\")\n",
    "plt.show()\n",
    "\n",
    "saveReport(acc_history)"
   ]
  }
 ],
 "metadata": {
  "interpreter": {
   "hash": "0b41b614c6c44926803297f7350f5772704ee7eec981e74618681f951a073a73"
  },
  "kernelspec": {
   "display_name": "Python 3.7.9 64-bit",
   "language": "python",
   "name": "python3"
  },
  "language_info": {
   "codemirror_mode": {
    "name": "ipython",
    "version": 3
   },
   "file_extension": ".py",
   "mimetype": "text/x-python",
   "name": "python",
   "nbconvert_exporter": "python",
   "pygments_lexer": "ipython3",
   "version": "3.7.9"
  },
  "orig_nbformat": 4
 },
 "nbformat": 4,
 "nbformat_minor": 2
}
